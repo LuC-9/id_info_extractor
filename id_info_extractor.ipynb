{
 "cells": [
  {
   "cell_type": "markdown",
   "metadata": {},
   "source": [
    "# ID card Information Extractor"
   ]
  },
  {
   "cell_type": "markdown",
   "metadata": {},
   "source": [
    "## Importing Libraries"
   ]
  },
  {
   "cell_type": "code",
   "execution_count": 1,
   "metadata": {},
   "outputs": [],
   "source": [
    "import pytesseract\n",
    "import cv2\n",
    "import numpy as np\n",
    "import sys\n",
    "import requests\n",
    "import re\n",
    "import os\n",
    "from PIL import Image\n",
    "import ftfy\n",
    "import pan_read\n",
    "import adhar_read\n",
    "import io\n",
    "import json\n",
    "pytesseract.pytesseract.tesseract_cmd = r'C:\\Users\\KrygO\\AppData\\Local\\Tesseract-OCR\\tesseract' #replace with tesseracct address"
   ]
  },
  {
   "cell_type": "markdown",
   "metadata": {},
   "source": [
    "## Taking Input from Command Line"
   ]
  },
  {
   "cell_type": "code",
   "execution_count": 2,
   "metadata": {},
   "outputs": [
    {
     "data": {
      "text/plain": [
       "'if len(sys.argv) > 1:\\n    img_url = \"\".join(sys.argv[1:])\\n    print(img_url)\\nelse:\\n    print(\"No Input Specified!!!\")\\n    k= input(\\'Press Enter to Exit.\\')\\n    exit(1)'"
      ]
     },
     "execution_count": 2,
     "metadata": {},
     "output_type": "execute_result"
    }
   ],
   "source": [
    "img_url = \"\"\n",
    "if len(sys.argv) > 1:\n",
    "    img_url = \"\".join(sys.argv[1:])\n",
    "    print(img_url)\n",
    "else:\n",
    "    print(\"No Input Specified!!!\")\n",
    "    k= input('Press Enter to Exit.')\n",
    "    exit(1)"
   ]
  },
  {
   "cell_type": "markdown",
   "metadata": {},
   "source": [
    "### Checking the address is URL or path and validity check"
   ]
  },
  {
   "cell_type": "code",
   "execution_count": 3,
   "metadata": {},
   "outputs": [],
   "source": [
    "if img_url.startswith('http') or img_url.startswith('www'):\n",
    "    if not re.match('(?:http|ftp|https)://', img_url):\n",
    "        img_url =  'http://{}'.format(img_url)\n",
    "    try:\n",
    "        r = requests.get(img_url, stream = True)\n",
    "        if r.headers.get('content-type')[:5] == 'image':\n",
    "            open('image.jpg','wb').write(r.content)\n",
    "        else:\n",
    "            print(\"Couldn't load image!!\")\n",
    "            k = input(\"Press Enter to Exit.\")\n",
    "            exit(1)\n",
    "    except:\n",
    "        print(\"Wrong Address!!\")\n",
    "        k= input('Press Enter to Exit.')\n",
    "        exit(1)\n",
    "else:\n",
    "    try:\n",
    "        img= cv2.imread(img_url)\n",
    "        cv2.imwrite(\"image.jpg\",img)\n",
    "    except:\n",
    "        print(\"Wrong Address!!\")\n",
    "        k= input('Press Enter to Exit.')\n",
    "        exit(1)"
   ]
  },
  {
   "cell_type": "markdown",
   "metadata": {},
   "source": [
    "### Checking for clear Image"
   ]
  },
  {
   "cell_type": "code",
   "execution_count": 4,
   "metadata": {},
   "outputs": [],
   "source": [
    "img = cv2.imread(\"image.jpg\")\n",
    "var = cv2.Laplacian(img, cv2.CV_64F).var()\n",
    "if var < 50:\n",
    "    print(\"Image is Too Blurry....\")\n",
    "    k= input('Press Enter to Exit.')\n",
    "    exit(1)"
   ]
  },
  {
   "cell_type": "markdown",
   "metadata": {},
   "source": [
    "## Extracting Text using PyTesseract"
   ]
  },
  {
   "cell_type": "code",
   "execution_count": 5,
   "metadata": {},
   "outputs": [],
   "source": [
    "filename = \"image.jpg\"\n",
    "text = pytesseract.image_to_string(Image.open(filename), lang = 'eng')\n",
    "os.remove(filename)\n",
    "\n",
    "text_output = open('output.txt', 'w', encoding='utf-8')\n",
    "text_output.write(text)\n",
    "text_output.close()\n",
    "\n",
    "file = open('output.txt', 'r', encoding='utf-8')\n",
    "text = file.read()\n",
    "\n",
    "text = ftfy.fix_text(text)\n",
    "text = ftfy.fix_encoding(text)"
   ]
  },
  {
   "cell_type": "markdown",
   "metadata": {},
   "source": [
    "### Check whether PAN or adhaar"
   ]
  },
  {
   "cell_type": "code",
   "execution_count": 6,
   "metadata": {},
   "outputs": [],
   "source": [
    "if \"income\" in text.lower() or \"tax\" in text.lower() or \"department\" in text.lower():\n",
    "    data = pan_read.pan_read_data(text)\n",
    "elif \"male\" in text.lower():\n",
    "    data = adhar_read.adhaar_read_data(text)"
   ]
  },
  {
   "cell_type": "markdown",
   "metadata": {},
   "source": [
    "## Writing for JSON"
   ]
  },
  {
   "cell_type": "code",
   "execution_count": 7,
   "metadata": {},
   "outputs": [],
   "source": [
    "try:\n",
    "    to_unicode = unicode\n",
    "except NameError:\n",
    "    to_unicode = str\n",
    "with io.open('info.json', 'w', encoding='utf-8') as outfile:\n",
    "    data = json.dumps(data, indent=4, sort_keys=True, separators=(',', ': '), ensure_ascii=False)\n",
    "    outfile.write(to_unicode(data))"
   ]
  },
  {
   "cell_type": "markdown",
   "metadata": {},
   "source": [
    "## Reading JSON data"
   ]
  },
  {
   "cell_type": "code",
   "execution_count": 8,
   "metadata": {},
   "outputs": [],
   "source": [
    "with open('info.json', encoding = 'utf-8') as data:\n",
    "    data_loaded = json.load(data)"
   ]
  },
  {
   "cell_type": "code",
   "execution_count": 9,
   "metadata": {},
   "outputs": [
    {
     "name": "stdout",
     "output_type": "stream",
     "text": [
      "\n",
      "---------- PAN Details ----------\n",
      "\n",
      "PAN Number:  BNZPM2501F\n",
      "\n",
      "Name:  D MANIKANDAN\n",
      "\n",
      "Father's Name:  DURAISAMY\n",
      "\n",
      "Date Of Birth:  PermanentAccountNumber\n",
      "\n",
      "---------------------------------\n",
      "\n",
      "\n",
      "Press Enter To EXIT\n"
     ]
    }
   ],
   "source": [
    "if data_loaded['ID Type'] == 'PAN':\n",
    "    print(\"\\n---------- PAN Details ----------\")\n",
    "    print(\"\\nPAN Number: \",data_loaded['PAN'])\n",
    "    print(\"\\nName: \",data_loaded['Name'])\n",
    "    print(\"\\nFather's Name: \",data_loaded['Father Name'])\n",
    "    print(\"\\nDate Of Birth: \",data_loaded['Date of Birth'])\n",
    "    print(\"\\n---------------------------------\")\n",
    "elif data_loaded['ID Type'] == 'ADHAAR':\n",
    "    print(\"\\n---------- ADHAAR Details ----------\")\n",
    "    print(\"\\nADHAAR Number: \",data_loaded['Adhaar Number'])\n",
    "    print(\"\\nName: \",data_loaded['Name'])\n",
    "    print(\"\\nDate Of Birth: \",data_loaded['Date of Birth'])\n",
    "    print(\"\\nSex: \",data_loaded['Sex'])\n",
    "    print(\"\\n------------------------------------\")\n",
    "k = input(\"\\n\\nPress Enter To EXIT\")\n",
    "exit(0)"
   ]
  }
 ],
 "metadata": {
  "kernelspec": {
   "display_name": "Python 3",
   "language": "python",
   "name": "python3"
  },
  "language_info": {
   "codemirror_mode": {
    "name": "ipython",
    "version": 3
   },
   "file_extension": ".py",
   "mimetype": "text/x-python",
   "name": "python",
   "nbconvert_exporter": "python",
   "pygments_lexer": "ipython3",
   "version": "3.7.6"
  }
 },
 "nbformat": 4,
 "nbformat_minor": 4
}
